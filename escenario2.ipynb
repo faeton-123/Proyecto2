{
 "cells": [
  {
   "attachments": {},
   "cell_type": "markdown",
   "metadata": {},
   "source": [
    "# Proyecto Final: Ciencia de Datos en Python"
   ]
  },
  {
   "attachments": {},
   "cell_type": "markdown",
   "metadata": {},
   "source": [
    "##### Nombre: Werner Omar Chanta Bautista  \n",
    "##### Carne: 23000328\n",
    "##### Curso: Ciencia de Datos en Python, Seccion V"
   ]
  },
  {
   "attachments": {},
   "cell_type": "markdown",
   "metadata": {},
   "source": [
    "Scope del proyecto:\n",
    "El proyecto consiste en la implementación de un pipeline de ingeniería de datos utilizando Python, SQL y AWS. El objetivo del pipeline será procesar datos, transformarlos y cargarlos en un destino final, que esun Data Warehouse (DW). El proyecto contempla las siguientes etapas:\n",
    "\n",
    "Exploración de la data: se realiza un análisis exploratorio de los datos para determinar la estructura de los mismos y definir el modelo de datos a utilizar, (los datos se crean como en las clases recibidas)\n",
    "\n",
    "Modelo de datos: se define el modelo de datos a utilizar, un esquema de estrella un tipo de esquema de base de datos relacional que consta de una sola tabla de hechos central rodeada de tablas de dimensiones. (se adjunta la imagen) se implementa un Data Warehouse.\n",
    "\n",
    "Procesamiento: se desarrollará un conjunto de scripts en Python que permiten extraer, transformar y cargar los datos en el destino final. Para ello, se utilizarán diversas herramientas de AWS, como Amazon RDS para bases de datos.\n",
    "\n",
    "Analítica: se plantean 5 preguntas de análisis que puedan ser resueltas con la estructura definida. Estas preguntas se utilizarán como base para realizar el análisis de los datos una vez cargados en el destino final.\n",
    "\n",
    "Descripción de fuentes de información:\n",
    "Las fuentes de información utilizadas en este proyecto serán diversas, como: bases de datos relacionales, datos en tiempo real y otros servicios web."
   ]
  },
  {
   "cell_type": "markdown",
   "metadata": {},
   "source": []
  },
  {
   "cell_type": "code",
   "execution_count": 50,
   "metadata": {},
   "outputs": [],
   "source": [
    "import pandas as pd\n",
    "import numpy as np\n",
    "from faker import Faker\n",
    "import random\n",
    "import datetime\n",
    "import boto3\n",
    "import psycopg2\n",
    "import configparser"
   ]
  },
  {
   "attachments": {},
   "cell_type": "markdown",
   "metadata": {},
   "source": [
    "# Iniciación de Variables"
   ]
  },
  {
   "cell_type": "code",
   "execution_count": 51,
   "metadata": {},
   "outputs": [],
   "source": [
    "cantidad_clientes = np.random.randint(500, 1000) #cantidad de clientes a crear\n",
    "#rdsIdentifier = 'banco-db-v1' #nombre de la instancia\n",
    "rdsIdentifier = 'proyectof' #nombre de la instancia\n",
    "fake = Faker() #inicialización para creación de data random"
   ]
  },
  {
   "attachments": {},
   "cell_type": "markdown",
   "metadata": {},
   "source": [
    "# Cargamos archivo de configuraciones"
   ]
  },
  {
   "cell_type": "code",
   "execution_count": 52,
   "metadata": {},
   "outputs": [
    {
     "data": {
      "text/plain": [
       "['escec2.cfg']"
      ]
     },
     "execution_count": 52,
     "metadata": {},
     "output_type": "execute_result"
    }
   ],
   "source": [
    "config = configparser.ConfigParser()\n",
    "config.read('escec2.cfg')"
   ]
  },
  {
   "attachments": {},
   "cell_type": "markdown",
   "metadata": {},
   "source": [
    "# Creamos Instancia de RDS "
   ]
  },
  {
   "cell_type": "code",
   "execution_count": 53,
   "metadata": {},
   "outputs": [],
   "source": [
    "aws_conn = boto3.client('rds', aws_access_key_id=config.get('IAM', 'ACCESS_KEY'),\n",
    "                    aws_secret_access_key=config.get('IAM', 'SECRET_ACCESS_KEY'),\n",
    "                    region_name='us-east-1')"
   ]
  },
  {
   "attachments": {},
   "cell_type": "markdown",
   "metadata": {},
   "source": [
    "# Verificamos Instancias de RDS disponibles"
   ]
  },
  {
   "cell_type": "code",
   "execution_count": 54,
   "metadata": {},
   "outputs": [
    {
     "name": "stdout",
     "output_type": "stream",
     "text": [
      "DBInstanceIds ['banco-db-v1']\n"
     ]
    }
   ],
   "source": [
    "rdsInstanceIds = []\n",
    "\n",
    "response = aws_conn.describe_db_instances()\n",
    "for resp in response['DBInstances']:\n",
    "    rdsInstanceIds.append(resp['DBInstanceIdentifier'])\n",
    "    db_instance_status = resp['DBInstanceStatus']\n",
    "\n",
    "print(f\"DBInstanceIds {rdsInstanceIds}\")"
   ]
  },
  {
   "attachments": {},
   "cell_type": "markdown",
   "metadata": {},
   "source": [
    "# Creación de Servicio RDS"
   ]
  },
  {
   "cell_type": "code",
   "execution_count": 55,
   "metadata": {},
   "outputs": [
    {
     "name": "stdout",
     "output_type": "stream",
     "text": [
      "{'DBInstance': {'DBInstanceIdentifier': 'proyectof', 'DBInstanceClass': 'db.t3.micro', 'Engine': 'postgres', 'DBInstanceStatus': 'creating', 'MasterUsername': 'postgres', 'DBName': 'pfinal', 'AllocatedStorage': 10, 'PreferredBackupWindow': '03:46-04:16', 'BackupRetentionPeriod': 1, 'DBSecurityGroups': [], 'VpcSecurityGroups': [{'VpcSecurityGroupId': 'sg-074d1584c8c8d3ed2', 'Status': 'active'}], 'DBParameterGroups': [{'DBParameterGroupName': 'default.postgres14', 'ParameterApplyStatus': 'in-sync'}], 'DBSubnetGroup': {'DBSubnetGroupName': 'default', 'DBSubnetGroupDescription': 'default', 'VpcId': 'vpc-092cd1fa1bdedff0c', 'SubnetGroupStatus': 'Complete', 'Subnets': [{'SubnetIdentifier': 'subnet-0a88fa338fb50a66f', 'SubnetAvailabilityZone': {'Name': 'us-east-1a'}, 'SubnetOutpost': {}, 'SubnetStatus': 'Active'}, {'SubnetIdentifier': 'subnet-05ded3f609ce1b10e', 'SubnetAvailabilityZone': {'Name': 'us-east-1c'}, 'SubnetOutpost': {}, 'SubnetStatus': 'Active'}, {'SubnetIdentifier': 'subnet-0ad911849fdbe8410', 'SubnetAvailabilityZone': {'Name': 'us-east-1b'}, 'SubnetOutpost': {}, 'SubnetStatus': 'Active'}, {'SubnetIdentifier': 'subnet-0d606fc60ff4e471e', 'SubnetAvailabilityZone': {'Name': 'us-east-1d'}, 'SubnetOutpost': {}, 'SubnetStatus': 'Active'}, {'SubnetIdentifier': 'subnet-006344265f6f752ae', 'SubnetAvailabilityZone': {'Name': 'us-east-1e'}, 'SubnetOutpost': {}, 'SubnetStatus': 'Active'}, {'SubnetIdentifier': 'subnet-0e1d72f875a2d443b', 'SubnetAvailabilityZone': {'Name': 'us-east-1f'}, 'SubnetOutpost': {}, 'SubnetStatus': 'Active'}]}, 'PreferredMaintenanceWindow': 'tue:03:07-tue:03:37', 'PendingModifiedValues': {'MasterUserPassword': '****'}, 'MultiAZ': False, 'EngineVersion': '14.6', 'AutoMinorVersionUpgrade': True, 'ReadReplicaDBInstanceIdentifiers': [], 'LicenseModel': 'postgresql-license', 'OptionGroupMemberships': [{'OptionGroupName': 'default:postgres-14', 'Status': 'in-sync'}], 'PubliclyAccessible': True, 'StorageType': 'gp2', 'DbInstancePort': 0, 'StorageEncrypted': False, 'DbiResourceId': 'db-NUOZXGOV37RUXQQMNLI4N7EBTI', 'CACertificateIdentifier': 'rds-ca-2019', 'DomainMemberships': [], 'CopyTagsToSnapshot': False, 'MonitoringInterval': 0, 'DBInstanceArn': 'arn:aws:rds:us-east-1:638692348982:db:proyectof', 'IAMDatabaseAuthenticationEnabled': False, 'PerformanceInsightsEnabled': False, 'DeletionProtection': False, 'AssociatedRoles': [], 'TagList': [], 'CustomerOwnedIpEnabled': False, 'BackupTarget': 'region', 'NetworkType': 'IPV4'}, 'ResponseMetadata': {'RequestId': 'dce3f7b7-2522-435a-9839-b82d829f48e9', 'HTTPStatusCode': 200, 'HTTPHeaders': {'x-amzn-requestid': 'dce3f7b7-2522-435a-9839-b82d829f48e9', 'strict-transport-security': 'max-age=31536000', 'content-type': 'text/xml', 'content-length': '5204', 'date': 'Mon, 10 Apr 2023 01:25:27 GMT'}, 'RetryAttempts': 0}}\n"
     ]
    }
   ],
   "source": [
    "try:\n",
    "    response = aws_conn.create_db_instance(\n",
    "            AllocatedStorage=10,\n",
    "            DBName=config.get('RDS', 'DB_NAME'),\n",
    "            DBInstanceIdentifier=rdsIdentifier,\n",
    "            DBInstanceClass=\"db.t3.micro\",\n",
    "            Engine=\"postgres\",\n",
    "            MasterUsername=config.get('RDS', 'DB_USER'),\n",
    "            MasterUserPassword=config.get('RDS', 'DB_PASSWORD'),\n",
    "            Port=int(config.get('RDS', 'DB_PORT')),\n",
    "            VpcSecurityGroupIds=[config.get('VPC', 'SECURITY_GROUP')],\n",
    "            PubliclyAccessible=True\n",
    "        )\n",
    "    print(response)\n",
    "except aws_conn.exceptions.DBInstanceAlreadyExistsFault as ex:\n",
    "    print(\"La Instancia de Base de Datos ya Existe.\")"
   ]
  },
  {
   "attachments": {},
   "cell_type": "markdown",
   "metadata": {},
   "source": [
    "##### Recordemos Esperar unos minutos para consultar la informaicón de la instancia."
   ]
  },
  {
   "attachments": {},
   "cell_type": "markdown",
   "metadata": {},
   "source": [
    "# Obtenemos URL del Host"
   ]
  },
  {
   "cell_type": "code",
   "execution_count": 57,
   "metadata": {},
   "outputs": [
    {
     "name": "stdout",
     "output_type": "stream",
     "text": [
      "proyectof.csgdbjf8hjye.us-east-1.rds.amazonaws.com\n"
     ]
    }
   ],
   "source": [
    "try:\n",
    "     instances = aws_conn.describe_db_instances(DBInstanceIdentifier=rdsIdentifier)\n",
    "     RDS_HOST = instances.get('DBInstances')[0].get('Endpoint').get('Address')\n",
    "     print(RDS_HOST)\n",
    "except Exception as ex:\n",
    "     print(\"La instancia de base de datos no existe o aun no se ha terminado de crear.\")\n",
    "     print(ex)"
   ]
  },
  {
   "attachments": {},
   "cell_type": "markdown",
   "metadata": {},
   "source": [
    "# Conexión a Base de Datos desde Python"
   ]
  },
  {
   "cell_type": "code",
   "execution_count": 90,
   "metadata": {},
   "outputs": [
    {
     "name": "stdout",
     "output_type": "stream",
     "text": [
      "Base de Datos Creada Exitosamente\n"
     ]
    }
   ],
   "source": [
    "import sql_queriess\n",
    "\n",
    "try:\n",
    "    db_conn = psycopg2.connect(\n",
    "        database=config.get('RDS', 'DB_NAME'), \n",
    "        user=config.get('RDS', 'DB_USER'),\n",
    "        password=config.get('RDS', 'DB_PASSWORD'), \n",
    "        host=RDS_HOST,\n",
    "        port=config.get('RDS', 'DB_PORT')\n",
    "    )\n",
    "\n",
    "    cursor = db_conn.cursor()\n",
    "    cursor.execute(sql_queriess.DDL_QUERY)\n",
    "    db_conn.commit()\n",
    "    print(\"Base de Datos Creada Exitosamente\")\n",
    "except Exception as ex:\n",
    "    print(\"ERROR: Error al crear la base de datos.\")\n",
    "    print(ex)"
   ]
  },
  {
   "attachments": {},
   "cell_type": "markdown",
   "metadata": {},
   "source": [
    "##### Carga de datos al "
   ]
  },
  {
   "cell_type": "code",
   "execution_count": 112,
   "metadata": {},
   "outputs": [],
   "source": [
    "def insertDataToSQL(data_dict, table_name):\n",
    "     postgres_driver = f\"\"\"postgresql://{config.get('RDS', 'DB_USER')}:{config.get('RDS', 'DB_PASSWORD')}@{RDS_HOST}:{config.get('RDS', 'DB_PORT')}/{config.get('RDS', 'DB_NAME')}\"\"\"    \n",
    "     df_data = pd.DataFrame.from_records(data_dict)\n",
    "     try:\n",
    "          response = df_data.to_sql(table_name, postgres_driver, index=False, if_exists='append')\n",
    "          print(f'Se han insertado {response} nuevos registros.' )\n",
    "     except Exception as ex:\n",
    "          print(ex)"
   ]
  },
  {
   "attachments": {},
   "cell_type": "markdown",
   "metadata": {},
   "source": [
    "# <span style=\"color:yellow\">dim_fecha</span>"
   ]
  },
  {
   "cell_type": "code",
   "execution_count": 91,
   "metadata": {},
   "outputs": [
    {
     "name": "stdout",
     "output_type": "stream",
     "text": [
      "Se han insertado 122 nuevos registros.\n"
     ]
    }
   ],
   "source": [
    "cantidad_dim_fecha = np.random.randint(1000, 2000)\n",
    "data_dim_fecha = []\n",
    "\n",
    "for transac in range(cantidad_dim_fecha):\n",
    "    nueva_fecha = {\n",
    "            'id_fecha': transac,\n",
    "            'fecha':fake.date_between(start_date='-2y', end_date='+1y'),\n",
    "            'dia_semana':fake.day_of_week(),\n",
    "            'mes': fake.month_name(),   \n",
    "        }\n",
    "    data_dim_fecha.append(nueva_fecha)\n",
    "   \n",
    "insertDataToSQL(data_dim_fecha, 'dim_fecha')"
   ]
  },
  {
   "attachments": {},
   "cell_type": "markdown",
   "metadata": {},
   "source": [
    "# <span style=\"color:yellow\">dim_tienda</span>"
   ]
  },
  {
   "cell_type": "code",
   "execution_count": 93,
   "metadata": {},
   "outputs": [
    {
     "name": "stdout",
     "output_type": "stream",
     "text": [
      "Se han insertado 144 nuevos registros.\n"
     ]
    }
   ],
   "source": [
    "numero_dim_tienda = np.random.randint(50,200 )\n",
    "data_dim_tienda = []\n",
    "\n",
    "for ntienda in range(numero_dim_tienda):\n",
    "    numero_tienda = {\n",
    "            'id_tienda': ntienda,\n",
    "            'nombre_tienda':fake.company(),\n",
    "            'id_gerente':[fake.random_number(digits=5) for _ in range(5)],\n",
    "        }\n",
    "    data_dim_tienda.append(numero_tienda)\n",
    "   \n",
    "insertDataToSQL(data_dim_tienda, 'dim_tienda')"
   ]
  },
  {
   "attachments": {},
   "cell_type": "markdown",
   "metadata": {},
   "source": [
    "# <span style=\"color:yellow\">dim_cajeros</span>"
   ]
  },
  {
   "cell_type": "code",
   "execution_count": 101,
   "metadata": {},
   "outputs": [
    {
     "name": "stdout",
     "output_type": "stream",
     "text": [
      "Se han insertado 76 nuevos registros.\n"
     ]
    }
   ],
   "source": [
    "numero_dim_cajeros = np.random.randint(50,200 )\n",
    "data_dim_cajeros = []\n",
    "\n",
    "for ncajero in range(numero_dim_cajeros):\n",
    "    numero_cajero = {\n",
    "            'id_cajero': ncajero,\n",
    "            'nombre':fake.name(),\n",
    "            'apellido':fake.last_name(),\n",
    "            'id_cargo':[fake.random_number(digits=3) for _ in range(5)],\n",
    "        }\n",
    "    data_dim_cajeros.append(numero_cajero)\n",
    "   \n",
    "insertDataToSQL(data_dim_cajeros, 'dim_cajeros')"
   ]
  },
  {
   "attachments": {},
   "cell_type": "markdown",
   "metadata": {},
   "source": [
    "# <span style=\"color:yellow\">dim_productos</span>"
   ]
  },
  {
   "cell_type": "code",
   "execution_count": 103,
   "metadata": {},
   "outputs": [
    {
     "name": "stdout",
     "output_type": "stream",
     "text": [
      "Se han insertado 196 nuevos registros.\n"
     ]
    }
   ],
   "source": [
    "numero_dim_productos = np.random.randint(50,200 )\n",
    "data_dim_productos = []\n",
    "\n",
    "for ncajero in range(numero_dim_productos):\n",
    "    numero_productos = {\n",
    "            'id_producto': fake.random_number(digits=4),\n",
    "            'sku_numero':fake.bothify(text='SKU-####'),\n",
    "            'producto':fake.sentence(nb_words=3),\n",
    "            'marca':fake.company(),\n",
    "            'categoria_producto':fake.word(),\n",
    "        }\n",
    "    data_dim_productos.append(numero_productos)\n",
    "   \n",
    "insertDataToSQL(data_dim_productos, 'dim_productos')"
   ]
  },
  {
   "attachments": {},
   "cell_type": "markdown",
   "metadata": {},
   "source": [
    "# <span style=\"color:yellow\">dim_promocion</span>"
   ]
  },
  {
   "cell_type": "code",
   "execution_count": 104,
   "metadata": {},
   "outputs": [
    {
     "name": "stdout",
     "output_type": "stream",
     "text": [
      "Se han insertado 153 nuevos registros.\n"
     ]
    }
   ],
   "source": [
    "numero_dim_promocion = np.random.randint(50,200 )\n",
    "data_dim_promocion = []\n",
    "\n",
    "for ncajero in range(numero_dim_promocion):\n",
    "    numero_promociones = {\n",
    "            'id_promocion': fake.random_number(digits=2),\n",
    "            'codigo_promocional':fake.random_number(digits=2),\n",
    "        }\n",
    "    data_dim_promocion.append(numero_promociones)\n",
    "   \n",
    "insertDataToSQL(data_dim_promocion, 'dim_promocion')"
   ]
  },
  {
   "attachments": {},
   "cell_type": "markdown",
   "metadata": {},
   "source": [
    "# <span style=\"color:yellow\">dim_pagos</span>"
   ]
  },
  {
   "cell_type": "code",
   "execution_count": 107,
   "metadata": {},
   "outputs": [
    {
     "name": "stdout",
     "output_type": "stream",
     "text": [
      "Se han insertado 151 nuevos registros.\n"
     ]
    }
   ],
   "source": [
    "fake = Faker()\n",
    "\n",
    "# Define la lista de palabras\n",
    "palabras = ['transferencia', 'tarjeta', 'contra entrega']\n",
    "\n",
    "# Genera el número aleatorio de dimensiones de pagos\n",
    "numero_dim_pagos = np.random.randint(50, 200)\n",
    "\n",
    "# Genera la lista de dimensiones de pagos\n",
    "data_dim_pagos = []\n",
    "for npago in range(numero_dim_pagos):\n",
    "    numero_promociones = {\n",
    "        'id_pago': fake.random_number(digits=3),\n",
    "        'metodo_pago': ' '.join(fake.words(1, ext_word_list=palabras)),\n",
    "    }\n",
    "    data_dim_pagos.append(numero_promociones)\n",
    "\n",
    "# Inserta los datos en SQL\n",
    "insertDataToSQL(data_dim_pagos, 'dim_pagos')"
   ]
  },
  {
   "attachments": {},
   "cell_type": "markdown",
   "metadata": {},
   "source": [
    "# <span style=\"color:yellow\">dim_direccionEnvio</span>"
   ]
  },
  {
   "cell_type": "code",
   "execution_count": 109,
   "metadata": {},
   "outputs": [
    {
     "name": "stdout",
     "output_type": "stream",
     "text": [
      "Se han insertado 51 nuevos registros.\n"
     ]
    }
   ],
   "source": [
    "\n",
    "numero_dim_direccionEnvio = np.random.randint(50,200 )\n",
    "data_dim_direccionEnvio = []\n",
    "\n",
    "for ncajero in range(numero_dim_direccionEnvio):\n",
    "    numero_direccionE = {  \n",
    "          'id_direccion': fake.random_number(digits=2),\n",
    "          'no_casa': str(np.random.randint(1, 99)) + '-' + str(np.random.randint(1, 99)),\n",
    "          'avenida': np.random.randint(1, 45),\n",
    "          'calle':fake.street_address(),\n",
    "          'zona':np.random.randint(1, 21),\n",
    "        }\n",
    "    data_dim_direccionEnvio.append(numero_direccionE)\n",
    "   \n",
    "insertDataToSQL(data_dim_direccionEnvio, 'dim_direccionEnvio')"
   ]
  },
  {
   "attachments": {},
   "cell_type": "markdown",
   "metadata": {},
   "source": [
    "# <span style=\"color:yellow\">transacciones</span>\n"
   ]
  },
  {
   "cell_type": "code",
   "execution_count": 111,
   "metadata": {},
   "outputs": [
    {
     "name": "stdout",
     "output_type": "stream",
     "text": [
      "Se han insertado 937 nuevos registros.\n"
     ]
    }
   ],
   "source": [
    "cantidad_transacciones = np.random.randint(1000, 2000)\n",
    "data_transacciones = []\n",
    "\n",
    "for transac in range(cantidad_transacciones):\n",
    "    nueva_transaccion = {\n",
    "            'id_transaccion': fake.random_int(min=1, max=999999),\n",
    "            'cantidad_vendida': fake.random_int(min=1, max=999),\n",
    "            'monto': round(random.uniform(1000, 10000), 2),\n",
    "            'id_fecha': random.sample(data_dim_fecha, 1)[0]['id_fecha'],\n",
    "            'id_cajero':  random.sample(data_dim_cajeros, 1)[0]['id_cajero'],\n",
    "            'id_tienda': random.sample(data_dim_tienda, 1)[0]['id_tienda'],\n",
    "            'id_producto': random.sample(data_dim_productos, 1)[0]['id_producto'],\n",
    "            'id_promocion': random.sample(data_dim_promocion, 1)[0]['id_promocion'],\n",
    "            'id_pago': random.sample(data_dim_pagos, 1)[0]['id_pago'],\n",
    "            'id_direccion' : random.sample(data_dim_direccionEnvio, 1)[0]['id_direccion'],\n",
    "        }\n",
    "    \n",
    "    data_transacciones.append(nueva_transaccion)\n",
    "   \n",
    "insertDataToSQL(data_transacciones, 'transacciones')"
   ]
  },
  {
   "cell_type": "code",
   "execution_count": null,
   "metadata": {},
   "outputs": [],
   "source": []
  }
 ],
 "metadata": {
  "kernelspec": {
   "display_name": "base",
   "language": "python",
   "name": "python3"
  },
  "language_info": {
   "codemirror_mode": {
    "name": "ipython",
    "version": 3
   },
   "file_extension": ".py",
   "mimetype": "text/x-python",
   "name": "python",
   "nbconvert_exporter": "python",
   "pygments_lexer": "ipython3",
   "version": "3.9.13"
  },
  "orig_nbformat": 4,
  "vscode": {
   "interpreter": {
    "hash": "48168050f1fe731b302b63a744aad32afdf0a66ee6e49905924ec3fd4edeb196"
   }
  }
 },
 "nbformat": 4,
 "nbformat_minor": 2
}
